{
  "cells": [
    {
      "cell_type": "code",
      "source": [
        "import torch\n",
        "import torch.nn as nn\n",
        "import torch.nn.functional as F\n",
        "from torchvision import datasets, transforms\n",
        "import torch.optim as optim\n",
        "import numpy as np\n",
        "import argparse\n",
        "import os\n",
        "from unicodedata import decimal\n",
        "from tqdm import tqdm\n",
        "\n",
        "# hard-code random seeds for deterministic outcomes\n",
        "np.random.seed(42)\n",
        "torch.manual_seed(42)\n",
        "use_cuda = False\n",
        "device = torch.device(\"cuda\" if use_cuda else \"cpu\")\n",
        "batch_size = 64\n",
        "\n",
        "import matplotlib.pyplot as plt\n",
        "\n",
        "class Net(nn.Module):\n",
        "    def __init__(self):\n",
        "        super(Net, self).__init__()\n",
        "        self.fc = nn.Linear(28*28, 200)\n",
        "        self.fc2 = nn.Linear(200,10)\n",
        "\n",
        "    def forward(self, x):\n",
        "        x = x.view((-1, 28*28))\n",
        "        x = F.relu(self.fc(x))\n",
        "        x = self.fc2(x)\n",
        "        return x\n",
        "\n",
        "class ConvNet(nn.Module):\n",
        "    def __init__(self):\n",
        "        super(ConvNet, self).__init__()\n",
        "        self.conv1 = nn.Conv2d(1, 32, kernel_size=(5, 5))\n",
        "        self.bn1 = nn.BatchNorm2d(32)\n",
        "        self.conv2 = nn.Conv2d(32, 32, kernel_size=(5, 5))\n",
        "        self.bn2 = nn.BatchNorm2d(32)\n",
        "        self.conv2_drop = nn.Dropout2d(p=0.2)\n",
        "        self.fc1 = nn.Linear(128, 100)\n",
        "        self.fc2 = nn.Linear(100, 10)\n",
        "        self.conv3 = nn.Conv2d(32, 64, kernel_size=(3, 3))\n",
        "        self.bn3 = nn.BatchNorm2d(64)\n",
        "        self.conv4 = nn.Conv2d(64, 64, kernel_size=(3, 3))\n",
        "        self.bn4 = nn.BatchNorm2d(64)\n",
        "        self.conv5 = nn.Conv2d(64, 128, kernel_size=(3, 3))\n",
        "        self.bn5 = nn.BatchNorm2d(128)\n",
        "        self.conv6 = nn.Conv2d(128, 128, kernel_size=(1, 1))\n",
        "        self.bn6 = nn.BatchNorm2d(128)\n",
        "\n",
        "    def forward(self, x):\n",
        "        x = F.relu(self.conv1(x))\n",
        "        x = self.bn1(x)\n",
        "        x = F.relu(self.conv2(x))\n",
        "        x = self.conv2_drop(F.max_pool2d(self.bn2(x), 2))\n",
        "        x = F.relu(self.conv3(x))\n",
        "        x = self.bn3(x)\n",
        "        x = F.relu(self.conv4(x))\n",
        "        x = self.bn4(x)\n",
        "        x = F.max_pool2d(x, 2)\n",
        "        x = self.conv2_drop(x)\n",
        "        x = F.relu(self.conv5(x))\n",
        "        x = self.bn5(x)\n",
        "        x = F.relu(self.conv6(x))\n",
        "        x = self.bn6(x)\n",
        "        size = x.size()[1] * x.size()[2] * x.size()[3]\n",
        "        # print(size)\n",
        "        x = x.view(-1, size)\n",
        "        x = F.relu(self.fc1(x))\n",
        "        x = self.fc2(x)\n",
        "        return x\n"
      ],
      "metadata": {
        "id": "iYfPrXAgHILt"
      },
      "execution_count": 14,
      "outputs": []
    },
    {
      "cell_type": "code",
      "execution_count": 16,
      "metadata": {
        "id": "09YgNWLUHFgw"
      },
      "outputs": [],
      "source": [
        "# loading the dataset\n",
        "# note that this time we do not perfrom the normalization operation, see next cell\n",
        "test_dataset = datasets.MNIST(\n",
        "    'mnist_data/',\n",
        "    train=False,\n",
        "    download=True,\n",
        "    transform=transforms.Compose(\n",
        "        [transforms.ToTensor()]\n",
        "    )\n",
        ")"
      ]
    },
    {
      "cell_type": "code",
      "execution_count": 17,
      "metadata": {
        "colab": {
          "base_uri": "https://localhost:8080/"
        },
        "id": "yvxK6eUgHFgw",
        "outputId": "c0fac7c6-4463-4ac3-d021-563c7f54faf9"
      },
      "outputs": [
        {
          "output_type": "stream",
          "name": "stderr",
          "text": [
            "<ipython-input-17-5f23a2a3348e>:6: FutureWarning: You are using `torch.load` with `weights_only=False` (the current default value), which uses the default pickle module implicitly. It is possible to construct malicious pickle data which will execute arbitrary code during unpickling (See https://github.com/pytorch/pytorch/blob/main/SECURITY.md#untrusted-models for more details). In a future release, the default value for `weights_only` will be flipped to `True`. This limits the functions that could be executed during unpickling. Arbitrary objects will no longer be allowed to be loaded via this mode unless they are explicitly allowlisted by the user via `torch.serialization.add_safe_globals`. We recommend you start setting `weights_only=True` for any use case where you don't have full control of the loaded file. Please open an issue on GitHub for any issues related to this experimental feature.\n",
            "  model = torch.load('/content/model.net', map_location='cpu')\n",
            "/usr/local/lib/python3.10/dist-packages/torch/serialization.py:1424: UserWarning: Couldn't retrieve source code for container of type ConvNet. It won't be checked for correctness upon loading.\n",
            "  warnings.warn(\n",
            "/usr/local/lib/python3.10/dist-packages/torch/serialization.py:1469: SourceChangeWarning: source code of class 'torch.nn.modules.conv.Conv2d' has changed. you can retrieve the original source code by accessing the object's source attribute or set `torch.nn.Module.dump_patches = True` and use the patch tool to revert the changes.\n",
            "  warnings.warn(msg, SourceChangeWarning)\n",
            "/usr/local/lib/python3.10/dist-packages/torch/serialization.py:1469: SourceChangeWarning: source code of class 'torch.nn.modules.batchnorm.BatchNorm2d' has changed. you can retrieve the original source code by accessing the object's source attribute or set `torch.nn.Module.dump_patches = True` and use the patch tool to revert the changes.\n",
            "  warnings.warn(msg, SourceChangeWarning)\n",
            "/usr/local/lib/python3.10/dist-packages/torch/serialization.py:1469: SourceChangeWarning: source code of class 'torch.nn.modules.dropout.Dropout2d' has changed. you can retrieve the original source code by accessing the object's source attribute or set `torch.nn.Module.dump_patches = True` and use the patch tool to revert the changes.\n",
            "  warnings.warn(msg, SourceChangeWarning)\n",
            "/usr/local/lib/python3.10/dist-packages/torch/serialization.py:1469: SourceChangeWarning: source code of class 'torch.nn.modules.linear.Linear' has changed. you can retrieve the original source code by accessing the object's source attribute or set `torch.nn.Module.dump_patches = True` and use the patch tool to revert the changes.\n",
            "  warnings.warn(msg, SourceChangeWarning)\n"
          ]
        },
        {
          "output_type": "execute_result",
          "data": {
            "text/plain": [
              "Sequential(\n",
              "  (0): Sequential(\n",
              "    (0): Normalize()\n",
              "    (1): ConvNet(\n",
              "      (conv1): Conv2d(1, 32, kernel_size=(5, 5), stride=(1, 1))\n",
              "      (bn1): BatchNorm2d(32, eps=1e-05, momentum=0.1, affine=True, track_running_stats=True)\n",
              "      (conv2): Conv2d(32, 32, kernel_size=(5, 5), stride=(1, 1))\n",
              "      (bn2): BatchNorm2d(32, eps=1e-05, momentum=0.1, affine=True, track_running_stats=True)\n",
              "      (conv2_drop): Dropout2d(p=0.2, inplace=False)\n",
              "      (fc1): Linear(in_features=128, out_features=100, bias=True)\n",
              "      (fc2): Linear(in_features=100, out_features=10, bias=True)\n",
              "      (conv3): Conv2d(32, 64, kernel_size=(3, 3), stride=(1, 1))\n",
              "      (bn3): BatchNorm2d(64, eps=1e-05, momentum=0.1, affine=True, track_running_stats=True)\n",
              "      (conv4): Conv2d(64, 64, kernel_size=(3, 3), stride=(1, 1))\n",
              "      (bn4): BatchNorm2d(64, eps=1e-05, momentum=0.1, affine=True, track_running_stats=True)\n",
              "      (conv5): Conv2d(64, 128, kernel_size=(3, 3), stride=(1, 1))\n",
              "      (bn5): BatchNorm2d(128, eps=1e-05, momentum=0.1, affine=True, track_running_stats=True)\n",
              "      (conv6): Conv2d(128, 128, kernel_size=(1, 1), stride=(1, 1))\n",
              "      (bn6): BatchNorm2d(128, eps=1e-05, momentum=0.1, affine=True, track_running_stats=True)\n",
              "    )\n",
              "  )\n",
              "  (1): Softmax(dim=None)\n",
              ")"
            ]
          },
          "metadata": {},
          "execution_count": 17
        }
      ],
      "source": [
        "class Normalize(nn.Module):\n",
        "    def forward(self, x):\n",
        "        return (x - 0.1307)/0.3081\n",
        "\n",
        "# we load the body of the pre-trained neural net...\n",
        "model = torch.load('/content/model.net', map_location='cpu')\n",
        "\n",
        "# ... and add the data normalization as a first \"layer\" to the network\n",
        "# this allows us to search for adverserial examples to the real image, rather than\n",
        "# to the normalized image\n",
        "model = nn.Sequential(Normalize(), model)\n",
        "\n",
        "# and here we also create a version of the model that outputs the class probabilities\n",
        "model_to_prob = nn.Sequential(model, nn.Softmax())\n",
        "\n",
        "# we put the neural net into evaluation mode (this disables features like dropout)\n",
        "model.eval()\n",
        "model_to_prob.eval()"
      ]
    },
    {
      "cell_type": "code",
      "execution_count": 18,
      "metadata": {
        "id": "vL09EkiWHFgw"
      },
      "outputs": [],
      "source": [
        "def show(original, adv, model_to_prob):\n",
        "    p0 = model_to_prob(original).detach().numpy()\n",
        "    p1 = model_to_prob(adv).detach().numpy()\n",
        "    f, axarr = plt.subplots(1,2)\n",
        "    axarr[0].imshow(original.detach().numpy().reshape(28, 28), cmap='gray')\n",
        "    axarr[0].set_title(\"Original, class: \" + str(p0.argmax()))\n",
        "    axarr[1].imshow(adv.detach().numpy().reshape(28, 28), cmap='gray')\n",
        "    axarr[1].set_title(\"Adversarial, class: \" + str(p1.argmax()))\n",
        "    print(\"Class\\t\\tOrig\\tAdv\")\n",
        "    for i in range(10):\n",
        "        print(\"Class {}:\\t{:.2f}\\t{:.2f}\".format(i, float(p0[:, i]), float(p1[:, i])))\n",
        "    plt.show()"
      ]
    },
    {
      "cell_type": "code",
      "execution_count": 19,
      "metadata": {
        "id": "XVC28SdcHFgx"
      },
      "outputs": [],
      "source": [
        "def fgsm_(model, x, target, eps, targeted=True, clip_min=None, clip_max=None):\n",
        "    \"\"\"Internal process for all FGSM and PGD attacks.\"\"\"\n",
        "    # create a copy of the input, remove all previous associations to the compute graph...\n",
        "    input_ = x.clone().detach_()\n",
        "    # ... and make sure we are differentiating toward that variable\n",
        "    input_.requires_grad_()\n",
        "\n",
        "    # run the model and obtain the loss\n",
        "    logits = model(input_)\n",
        "    target = torch.LongTensor([target])\n",
        "    model.zero_grad()\n",
        "    loss = nn.CrossEntropyLoss()(logits, target)\n",
        "    loss.backward()\n",
        "\n",
        "    #perfrom either targeted or untargeted attack\n",
        "    if targeted:\n",
        "        out = input_ - eps * input_.grad.sign()\n",
        "    else:\n",
        "        out = input_ + eps * input_.grad.sign()\n",
        "\n",
        "    #if desired clip the ouput back to the image domain\n",
        "    if (clip_min is not None) or (clip_max is not None):\n",
        "        out.clamp_(min=clip_min, max=clip_max)\n",
        "    return out"
      ]
    },
    {
      "cell_type": "code",
      "execution_count": 20,
      "metadata": {
        "id": "yQu9Do4qHFgx"
      },
      "outputs": [],
      "source": [
        "# x: input image\n",
        "# label: current label of x\n",
        "# k: number of FGSM iterations\n",
        "# eps: size of l-infinity ball\n",
        "# eps_step: step size of FGSM iterations\n",
        "def pgd(model, x, label, k, eps, eps_step, targeted, clip_min, clip_max):\n",
        "    x_min = x.clone().detach_() - eps\n",
        "    x_max = x.clone().detach_() + eps\n",
        "    x_adv = x.clone().detach_()\n",
        "    for i in range(k):\n",
        "      x_adv = fgsm_(model, x_adv, label, eps_step, targeted, clip_min, clip_max)\n",
        "      x_adv = torch.min(x_max, torch.max(x_min, x_adv))\n",
        "    return x_adv\n"
      ]
    },
    {
      "cell_type": "code",
      "execution_count": 21,
      "metadata": {
        "colab": {
          "base_uri": "https://localhost:8080/",
          "height": 588
        },
        "id": "nmYWfJMtHFgy",
        "outputId": "ab051c8e-6d81-47f6-b4c2-73af11504f68"
      },
      "outputs": [
        {
          "output_type": "stream",
          "name": "stderr",
          "text": [
            "/usr/local/lib/python3.10/dist-packages/torch/nn/modules/module.py:1736: UserWarning: Implicit dimension choice for softmax has been deprecated. Change the call to include dim=X as an argument.\n",
            "  return self._call_impl(*args, **kwargs)\n",
            "<ipython-input-18-9a195dd56465>:11: DeprecationWarning: Conversion of an array with ndim > 0 to a scalar is deprecated, and will error in future. Ensure you extract a single element from your array before performing this operation. (Deprecated NumPy 1.25.)\n",
            "  print(\"Class {}:\\t{:.2f}\\t{:.2f}\".format(i, float(p0[:, i]), float(p1[:, i])))\n"
          ]
        },
        {
          "output_type": "stream",
          "name": "stdout",
          "text": [
            "Class\t\tOrig\tAdv\n",
            "Class 0:\t0.00\t0.00\n",
            "Class 1:\t0.00\t0.00\n",
            "Class 2:\t0.00\t0.00\n",
            "Class 3:\t0.00\t1.00\n",
            "Class 4:\t0.00\t0.00\n",
            "Class 5:\t0.00\t0.00\n",
            "Class 6:\t0.00\t0.00\n",
            "Class 7:\t1.00\t0.00\n",
            "Class 8:\t0.00\t0.00\n",
            "Class 9:\t0.00\t0.00\n"
          ]
        },
        {
          "output_type": "display_data",
          "data": {
            "text/plain": [
              "<Figure size 640x480 with 2 Axes>"
            ],
            "image/png": "[encoded data removed]"
          },
          "metadata": {}
        }
      ],
      "source": [
        "# try out our attacks\n",
        "original = torch.unsqueeze(test_dataset[0][0], dim=0)\n",
        "\n",
        "adv = pgd(model, original, label=7, k=10, eps=0.15, eps_step=0.05, targeted=False, clip_min=0, clip_max=1.0)\n",
        "\n",
        "show(original, adv, model_to_prob)"
      ]
    },
    {
      "cell_type": "markdown",
      "source": [
        "[TRADES algorithm\n",
        "](https://arxiv.org/pdf/1901.08573)\n",
        "\n",
        "\n",
        "![image.png](data:image/png;base64,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)"
      ],
      "metadata": {
        "id": "n88R94n8M8af"
      }
    },
    {
      "cell_type": "code",
      "source": [
        "class Net(nn.Module):\n",
        "    def __init__(self):\n",
        "        super(Net, self).__init__()\n",
        "        self.fc1 = nn.Linear(28 * 28, 200)\n",
        "        self.fc2 = nn.Linear(200, 10)\n",
        "\n",
        "    def forward(self, x):\n",
        "        x = x.view((-1, 28 * 28))\n",
        "        x = F.relu(self.fc1(x))\n",
        "        x = self.fc2(x)\n",
        "        return x\n",
        "\n",
        "\n",
        "class Normalize(nn.Module):\n",
        "    def forward(self, x):\n",
        "        return (x - 0.1307) / 0.3081\n",
        "\n",
        "def fgsm_batch(model, x_batch, target, eps, targeted=False, clip_min=None, clip_max=None):\n",
        "    \"\"\"Internal process for all FGSM and PGD attacks.\"\"\"\n",
        "    # create a copy of the input, remove all previous associations to the compute graph...\n",
        "    input_ = x_batch.clone().detach_()\n",
        "    # ... and make sure we are differentiating toward that variable\n",
        "    input_.requires_grad_()\n",
        "    # run the model and obtain the loss\n",
        "    logits = model(input_)\n",
        "    target = torch.LongTensor(target)\n",
        "    model.zero_grad()\n",
        "    loss = nn.CrossEntropyLoss()(logits, target)\n",
        "    loss.backward()\n",
        "    #perfrom either targeted or untargeted attack\n",
        "    if targeted:\n",
        "        out = input_ - eps * input_.grad.sign()\n",
        "    else:\n",
        "        out = input_ + eps * input_.grad.sign()\n",
        "\n",
        "    #if desired clip the ouput back to the image domain\n",
        "    if (clip_min is not None) or (clip_max is not None):\n",
        "        out.clamp_(min=clip_min, max=clip_max)\n",
        "    return out\n",
        "\n",
        "\n",
        "\n",
        "def pgd_batch(model, x_batch, target, k, eps, eps_step):\n",
        "    # implement pgd for batch\n",
        "    # calculate min\n",
        "    x_min = x_batch.clone().detach_() - eps\n",
        "    #calculate max\n",
        "    x_max = x_batch.clone().detach_() + eps\n",
        "    x_adv = x_batch.clone().detach_()\n",
        "    #perform fgsm attack k times\n",
        "    for i in range(k):\n",
        "      x_adv = fgsm_batch(model, x_adv, target, eps_step, False, clip_min=0, clip_max=255)\n",
        "      x_adv = torch.min(x_max, torch.max(x_min, x_adv))\n",
        "    return x_adv\n",
        "\n",
        "batch_size = 512\n",
        "learning_rate = 0.01\n",
        "defense = 'TRADES'\n",
        "num_epochs = 10\n",
        "eps = 0.1\n",
        "k = 7\n",
        "trades_fact = 1.0\n",
        "eps_step = 2.5 * (eps/k)\n",
        "\n",
        "\n",
        "# Datasets\n",
        "train_dataset = datasets.MNIST('mnist_data/', train=True, download=True, transform=transforms.Compose([transforms.ToTensor()]))\n",
        "test_dataset = datasets.MNIST('mnist_data/', train=False, download=True, transform=transforms.Compose([transforms.ToTensor()]))\n",
        "\n",
        "# Data loaders\n",
        "train_loader = torch.utils.data.DataLoader(train_dataset, batch_size=batch_size, shuffle=True)\n",
        "test_loader = torch.utils.data.DataLoader(test_dataset, batch_size=batch_size, shuffle=False)\n",
        "\n",
        "# Add the data normalization as a first \"layer\" to the network\n",
        "# this allows us to search for adverserial examples to the real image, rather than\n",
        "# to the normalized image\n",
        "model = nn.Sequential(Normalize(), Net())\n",
        "model = model.to(device)\n",
        "\n",
        "\n",
        "opt = optim.Adam(params=model.parameters(), lr=learning_rate, weight_decay=1e-5)\n",
        "scheduler = optim.lr_scheduler.StepLR(opt, 15)\n",
        "ce_loss = torch.nn.CrossEntropyLoss()\n",
        "\n",
        "\n",
        "for epoch in range(1, num_epochs + 1):\n",
        "    # Training\n",
        "    for batch_idx, (x_batch, y_batch) in enumerate(tqdm(train_loader)):\n",
        "\n",
        "        x_batch, y_batch = x_batch.to(device), y_batch.to(device)\n",
        "        if defense == 'PGD':\n",
        "            x_batch_adv = pgd_batch(model, x_batch, y_batch, k, eps, eps_step)\n",
        "            model.train()\n",
        "            out_adv = model(x_batch_adv)\n",
        "            loss = ce_loss(out_adv, y_batch)\n",
        "        elif defense == 'TRADES':\n",
        "            x_batch_adv = pgd_batch(model, x_batch, y_batch, k, eps, eps_step)\n",
        "            model.train()\n",
        "            out_adv = model(x_batch_adv)\n",
        "            out_nat = model(x_batch)\n",
        "            loss = ce_loss(out_nat, y_batch) + trades_fact*ce_loss(out_adv, y_batch)\n",
        "\n",
        "        elif defense == 'none':\n",
        "            # standard training\n",
        "            model.train()  # switch to training mode\n",
        "            out_nat = model(x_batch)\n",
        "            loss = ce_loss(out_nat, y_batch)\n",
        "\n",
        "        opt.zero_grad()\n",
        "        loss.backward()\n",
        "        opt.step()\n",
        "\n",
        "    # Testing\n",
        "    model.eval()\n",
        "    tot_test, tot_acc, tot_adv_acc = 0.0, 0.0, 0.0\n",
        "    for batch_idx, (x_batch, y_batch) in enumerate(tqdm(test_loader)):\n",
        "        x_batch, y_batch = x_batch.to(device), y_batch.to(device)\n",
        "\n",
        "        out = model(x_batch)\n",
        "        pred = torch.max(out, dim=1)[1]\n",
        "        acc = pred.eq(y_batch).sum().item()\n",
        "\n",
        "        x_batch_adv = pgd_batch(model, x_batch, y_batch, k, eps, eps_step)\n",
        "        out_adv = model(x_batch_adv)\n",
        "        pred_adv = torch.max(out_adv, dim=1)[1]\n",
        "        acc_adv = pred_adv.eq(y_batch).sum().item()\n",
        "\n",
        "        # Accumulate accuracies\n",
        "        tot_acc += acc\n",
        "        tot_adv_acc += acc_adv\n",
        "        tot_test += x_batch.size()[0]\n",
        "\n",
        "    scheduler.step()\n",
        "\n",
        "    print('Epoch %d: Accuracy %.5lf, Adv Accuracy %.5lf' % (epoch, tot_acc / tot_test, tot_adv_acc / tot_test))\n",
        "\n",
        "# optionally save the model\n",
        "#os.makedirs(\"models\", exist_ok=True)\n",
        "#torch.save(model.state_dict(), f\"models/Net_{args.num_epochs}_{args.defense}\")\n"
      ],
      "metadata": {
        "id": "rYoN1Va5HPIx",
        "colab": {
          "base_uri": "https://localhost:8080/"
        },
        "outputId": "0db075b0-ef49-4962-82d1-af64f73ea831"
      },
      "execution_count": 24,
      "outputs": [
        {
          "output_type": "stream",
          "name": "stderr",
          "text": [
            "100%|██████████| 118/118 [00:23<00:00,  4.99it/s]\n",
            "100%|██████████| 20/20 [00:03<00:00,  6.23it/s]\n"
          ]
        },
        {
          "output_type": "stream",
          "name": "stdout",
          "text": [
            "Epoch 1: Accuracy 0.96090, Adv Accuracy 0.76520\n"
          ]
        },
        {
          "output_type": "stream",
          "name": "stderr",
          "text": [
            "100%|██████████| 118/118 [00:24<00:00,  4.86it/s]\n",
            "100%|██████████| 20/20 [00:03<00:00,  5.80it/s]\n"
          ]
        },
        {
          "output_type": "stream",
          "name": "stdout",
          "text": [
            "Epoch 2: Accuracy 0.96560, Adv Accuracy 0.78230\n"
          ]
        },
        {
          "output_type": "stream",
          "name": "stderr",
          "text": [
            "100%|██████████| 118/118 [00:24<00:00,  4.82it/s]\n",
            "100%|██████████| 20/20 [00:04<00:00,  4.97it/s]\n"
          ]
        },
        {
          "output_type": "stream",
          "name": "stdout",
          "text": [
            "Epoch 3: Accuracy 0.97210, Adv Accuracy 0.81310\n"
          ]
        },
        {
          "output_type": "stream",
          "name": "stderr",
          "text": [
            "100%|██████████| 118/118 [00:22<00:00,  5.16it/s]\n",
            "100%|██████████| 20/20 [00:04<00:00,  4.73it/s]\n"
          ]
        },
        {
          "output_type": "stream",
          "name": "stdout",
          "text": [
            "Epoch 4: Accuracy 0.97040, Adv Accuracy 0.81400\n"
          ]
        },
        {
          "output_type": "stream",
          "name": "stderr",
          "text": [
            "100%|██████████| 118/118 [00:23<00:00,  4.98it/s]\n",
            "100%|██████████| 20/20 [00:04<00:00,  4.48it/s]\n"
          ]
        },
        {
          "output_type": "stream",
          "name": "stdout",
          "text": [
            "Epoch 5: Accuracy 0.97560, Adv Accuracy 0.82190\n"
          ]
        },
        {
          "output_type": "stream",
          "name": "stderr",
          "text": [
            "100%|██████████| 118/118 [00:22<00:00,  5.30it/s]\n",
            "100%|██████████| 20/20 [00:04<00:00,  4.44it/s]\n"
          ]
        },
        {
          "output_type": "stream",
          "name": "stdout",
          "text": [
            "Epoch 6: Accuracy 0.97470, Adv Accuracy 0.82290\n"
          ]
        },
        {
          "output_type": "stream",
          "name": "stderr",
          "text": [
            "100%|██████████| 118/118 [00:23<00:00,  5.11it/s]\n",
            "100%|██████████| 20/20 [00:03<00:00,  5.14it/s]\n"
          ]
        },
        {
          "output_type": "stream",
          "name": "stdout",
          "text": [
            "Epoch 7: Accuracy 0.97570, Adv Accuracy 0.81160\n"
          ]
        },
        {
          "output_type": "stream",
          "name": "stderr",
          "text": [
            "100%|██████████| 118/118 [00:22<00:00,  5.16it/s]\n",
            "100%|██████████| 20/20 [00:03<00:00,  5.31it/s]\n"
          ]
        },
        {
          "output_type": "stream",
          "name": "stdout",
          "text": [
            "Epoch 8: Accuracy 0.97660, Adv Accuracy 0.83470\n"
          ]
        },
        {
          "output_type": "stream",
          "name": "stderr",
          "text": [
            "100%|██████████| 118/118 [00:22<00:00,  5.18it/s]\n",
            "100%|██████████| 20/20 [00:03<00:00,  5.36it/s]\n"
          ]
        },
        {
          "output_type": "stream",
          "name": "stdout",
          "text": [
            "Epoch 9: Accuracy 0.97440, Adv Accuracy 0.81290\n"
          ]
        },
        {
          "output_type": "stream",
          "name": "stderr",
          "text": [
            "100%|██████████| 118/118 [00:24<00:00,  4.81it/s]\n",
            "100%|██████████| 20/20 [00:03<00:00,  6.25it/s]"
          ]
        },
        {
          "output_type": "stream",
          "name": "stdout",
          "text": [
            "Epoch 10: Accuracy 0.97850, Adv Accuracy 0.82870\n"
          ]
        },
        {
          "output_type": "stream",
          "name": "stderr",
          "text": [
            "\n"
          ]
        }
      ]
    }
  ],
  "metadata": {
    "kernelspec": {
      "display_name": "Python 3.9.12 ('mess')",
      "language": "python",
      "name": "python3"
    },
    "language_info": {
      "codemirror_mode": {
        "name": "ipython",
        "version": 3
      },
      "file_extension": ".py",
      "mimetype": "text/x-python",
      "name": "python",
      "nbconvert_exporter": "python",
      "pygments_lexer": "ipython3",
      "version": "3.9.12"
    },
    "orig_nbformat": 4,
    "vscode": {
      "interpreter": {
        "hash": "38fbc8e28447ad5d6244055fa3e3d824aac84fcba8fa26cadda11ca7c822d364"
      }
    },
    "colab": {
      "provenance": []
    }
  },
  "nbformat": 4,
  "nbformat_minor": 0
}
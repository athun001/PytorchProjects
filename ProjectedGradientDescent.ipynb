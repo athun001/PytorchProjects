{
  "cells": [
    {
      "cell_type": "code",
      "execution_count": 142,
      "metadata": {
        "id": "1gssZtxrxiFr"
      },
      "outputs": [],
      "source": [
        "import torch\n",
        "import torch.nn as nn\n",
        "import torch.nn.functional as F\n",
        "import numpy as np\n",
        "\n",
        "from torchvision import datasets, transforms\n",
        "use_cuda = False\n",
        "device = torch.device(\"cuda\" if use_cuda else \"cpu\")\n",
        "batch_size = 64\n",
        "\n",
        "import matplotlib.pyplot as plt"
      ]
    },
    {
      "cell_type": "code",
      "source": [
        "import os\n",
        "GOOGLE_DRIVE_PATH = os.path.join('drive', 'My Drive')\n",
        "#print(os.listdir(GOOGLE_DRIVE_PATH))\n",
        "import sys\n",
        "from google.colab import drive\n",
        "sys.path.append(GOOGLE_DRIVE_PATH)\n",
        "drive.mount('/content/drive', force_remount=True)"
      ],
      "metadata": {
        "colab": {
          "base_uri": "https://localhost:8080/"
        },
        "id": "FwbOpPZGxnq2",
        "outputId": "6f3d904e-3d37-4aa2-e7cc-d876bcb377be"
      },
      "execution_count": 143,
      "outputs": [
        {
          "output_type": "stream",
          "name": "stdout",
          "text": [
            "Mounted at /content/drive\n"
          ]
        }
      ]
    },
    {
      "cell_type": "code",
      "execution_count": 144,
      "metadata": {
        "colab": {
          "base_uri": "https://localhost:8080/"
        },
        "id": "0qbQ3uUhxiFu",
        "outputId": "c68bbd7b-a914-40cf-da27-55241ba42b88"
      },
      "outputs": [
        {
          "output_type": "execute_result",
          "data": {
            "text/plain": [
              "<torch._C.Generator at 0x7a59781b8d10>"
            ]
          },
          "metadata": {},
          "execution_count": 144
        }
      ],
      "source": [
        "# hard-code random seeds for deterministic outcomes\n",
        "np.random.seed(42)\n",
        "torch.manual_seed(42)"
      ]
    },
    {
      "cell_type": "code",
      "source": [
        "class Net(nn.Module):\n",
        "    def __init__(self):\n",
        "        super(Net, self).__init__()\n",
        "        self.fc = nn.Linear(28*28, 200)\n",
        "        self.fc2 = nn.Linear(200,10)\n",
        "\n",
        "    def forward(self, x):\n",
        "        x = x.view((-1, 28*28))\n",
        "        x = F.relu(self.fc(x))\n",
        "        x = self.fc2(x)\n",
        "        return x\n",
        "\n",
        "class ConvNet(nn.Module):\n",
        "    def __init__(self):\n",
        "        super(ConvNet, self).__init__()\n",
        "        self.conv1 = nn.Conv2d(1, 32, kernel_size=(5, 5))\n",
        "        self.bn1 = nn.BatchNorm2d(32)\n",
        "        self.conv2 = nn.Conv2d(32, 32, kernel_size=(5, 5))\n",
        "        self.bn2 = nn.BatchNorm2d(32)\n",
        "        self.conv2_drop = nn.Dropout2d(p=0.2)\n",
        "        self.fc1 = nn.Linear(128, 100)\n",
        "        self.fc2 = nn.Linear(100, 10)\n",
        "        self.conv3 = nn.Conv2d(32, 64, kernel_size=(3, 3))\n",
        "        self.bn3 = nn.BatchNorm2d(64)\n",
        "        self.conv4 = nn.Conv2d(64, 64, kernel_size=(3, 3))\n",
        "        self.bn4 = nn.BatchNorm2d(64)\n",
        "        self.conv5 = nn.Conv2d(64, 128, kernel_size=(3, 3))\n",
        "        self.bn5 = nn.BatchNorm2d(128)\n",
        "        self.conv6 = nn.Conv2d(128, 128, kernel_size=(1, 1))\n",
        "        self.bn6 = nn.BatchNorm2d(128)\n",
        "\n",
        "    def forward(self, x):\n",
        "        x = F.relu(self.conv1(x))\n",
        "        x = self.bn1(x)\n",
        "        x = F.relu(self.conv2(x))\n",
        "        x = self.conv2_drop(F.max_pool2d(self.bn2(x), 2))\n",
        "        x = F.relu(self.conv3(x))\n",
        "        x = self.bn3(x)\n",
        "        x = F.relu(self.conv4(x))\n",
        "        x = self.bn4(x)\n",
        "        x = F.max_pool2d(x, 2)\n",
        "        x = self.conv2_drop(x)\n",
        "        x = F.relu(self.conv5(x))\n",
        "        x = self.bn5(x)\n",
        "        x = F.relu(self.conv6(x))\n",
        "        x = self.bn6(x)\n",
        "        size = x.size()[1] * x.size()[2] * x.size()[3]\n",
        "        # print(size)\n",
        "        x = x.view(-1, size)\n",
        "        x = F.relu(self.fc1(x))\n",
        "        x = self.fc2(x)\n",
        "        return x\n"
      ],
      "metadata": {
        "id": "PV3vQssWx_QQ"
      },
      "execution_count": 145,
      "outputs": []
    },
    {
      "cell_type": "code",
      "execution_count": 146,
      "metadata": {
        "id": "e2xgSitMxiFv"
      },
      "outputs": [],
      "source": [
        "# loading the dataset\n",
        "# note that this time we do not perfrom the normalization operation, see next cell\n",
        "test_dataset = datasets.MNIST(\n",
        "    'mnist_data/',\n",
        "    train=False,\n",
        "    download=True,\n",
        "    transform=transforms.Compose(\n",
        "        [transforms.ToTensor()]\n",
        "    )\n",
        ")"
      ]
    },
    {
      "cell_type": "code",
      "execution_count": 147,
      "metadata": {
        "colab": {
          "base_uri": "https://localhost:8080/"
        },
        "id": "Ks6ZGed0xiFw",
        "outputId": "f6c734dd-62f5-46a6-ac9e-b561fcf9b562"
      },
      "outputs": [
        {
          "output_type": "stream",
          "name": "stderr",
          "text": [
            "<ipython-input-147-5b04f904e8a3>:6: FutureWarning: You are using `torch.load` with `weights_only=False` (the current default value), which uses the default pickle module implicitly. It is possible to construct malicious pickle data which will execute arbitrary code during unpickling (See https://github.com/pytorch/pytorch/blob/main/SECURITY.md#untrusted-models for more details). In a future release, the default value for `weights_only` will be flipped to `True`. This limits the functions that could be executed during unpickling. Arbitrary objects will no longer be allowed to be loaded via this mode unless they are explicitly allowlisted by the user via `torch.serialization.add_safe_globals`. We recommend you start setting `weights_only=True` for any use case where you don't have full control of the loaded file. Please open an issue on GitHub for any issues related to this experimental feature.\n",
            "  model = torch.load('/content/drive/MyDrive/model.net', map_location='cpu')\n",
            "/usr/local/lib/python3.10/dist-packages/torch/serialization.py:1155: UserWarning: Couldn't retrieve source code for container of type ConvNet. It won't be checked for correctness upon loading.\n",
            "  warnings.warn(\"Couldn't retrieve source code for container of \"\n",
            "/usr/local/lib/python3.10/dist-packages/torch/serialization.py:1189: SourceChangeWarning: source code of class 'torch.nn.modules.conv.Conv2d' has changed. you can retrieve the original source code by accessing the object's source attribute or set `torch.nn.Module.dump_patches = True` and use the patch tool to revert the changes.\n",
            "  warnings.warn(msg, SourceChangeWarning)\n",
            "/usr/local/lib/python3.10/dist-packages/torch/serialization.py:1189: SourceChangeWarning: source code of class 'torch.nn.modules.batchnorm.BatchNorm2d' has changed. you can retrieve the original source code by accessing the object's source attribute or set `torch.nn.Module.dump_patches = True` and use the patch tool to revert the changes.\n",
            "  warnings.warn(msg, SourceChangeWarning)\n",
            "/usr/local/lib/python3.10/dist-packages/torch/serialization.py:1189: SourceChangeWarning: source code of class 'torch.nn.modules.dropout.Dropout2d' has changed. you can retrieve the original source code by accessing the object's source attribute or set `torch.nn.Module.dump_patches = True` and use the patch tool to revert the changes.\n",
            "  warnings.warn(msg, SourceChangeWarning)\n",
            "/usr/local/lib/python3.10/dist-packages/torch/serialization.py:1189: SourceChangeWarning: source code of class 'torch.nn.modules.linear.Linear' has changed. you can retrieve the original source code by accessing the object's source attribute or set `torch.nn.Module.dump_patches = True` and use the patch tool to revert the changes.\n",
            "  warnings.warn(msg, SourceChangeWarning)\n"
          ]
        },
        {
          "output_type": "execute_result",
          "data": {
            "text/plain": [
              "Sequential(\n",
              "  (0): Sequential(\n",
              "    (0): Normalize()\n",
              "    (1): ConvNet(\n",
              "      (conv1): Conv2d(1, 32, kernel_size=(5, 5), stride=(1, 1))\n",
              "      (bn1): BatchNorm2d(32, eps=1e-05, momentum=0.1, affine=True, track_running_stats=True)\n",
              "      (conv2): Conv2d(32, 32, kernel_size=(5, 5), stride=(1, 1))\n",
              "      (bn2): BatchNorm2d(32, eps=1e-05, momentum=0.1, affine=True, track_running_stats=True)\n",
              "      (conv2_drop): Dropout2d(p=0.2, inplace=False)\n",
              "      (fc1): Linear(in_features=128, out_features=100, bias=True)\n",
              "      (fc2): Linear(in_features=100, out_features=10, bias=True)\n",
              "      (conv3): Conv2d(32, 64, kernel_size=(3, 3), stride=(1, 1))\n",
              "      (bn3): BatchNorm2d(64, eps=1e-05, momentum=0.1, affine=True, track_running_stats=True)\n",
              "      (conv4): Conv2d(64, 64, kernel_size=(3, 3), stride=(1, 1))\n",
              "      (bn4): BatchNorm2d(64, eps=1e-05, momentum=0.1, affine=True, track_running_stats=True)\n",
              "      (conv5): Conv2d(64, 128, kernel_size=(3, 3), stride=(1, 1))\n",
              "      (bn5): BatchNorm2d(128, eps=1e-05, momentum=0.1, affine=True, track_running_stats=True)\n",
              "      (conv6): Conv2d(128, 128, kernel_size=(1, 1), stride=(1, 1))\n",
              "      (bn6): BatchNorm2d(128, eps=1e-05, momentum=0.1, affine=True, track_running_stats=True)\n",
              "    )\n",
              "  )\n",
              "  (1): Softmax(dim=None)\n",
              ")"
            ]
          },
          "metadata": {},
          "execution_count": 147
        }
      ],
      "source": [
        "class Normalize(nn.Module):\n",
        "    def forward(self, x):\n",
        "        return (x - 0.1307)/0.3081\n",
        "\n",
        "# we load the body of the pre-trained neural net...\n",
        "model = torch.load('/content/drive/MyDrive/model.net', map_location='cpu')\n",
        "\n",
        "# ... and add the data normalization as a first \"layer\" to the network\n",
        "# this allows us to search for adverserial examples to the real image, rather than\n",
        "# to the normalized image\n",
        "model = nn.Sequential(Normalize(), model)\n",
        "\n",
        "# and here we also create a version of the model that outputs the class probabilities\n",
        "model_to_prob = nn.Sequential(model, nn.Softmax())\n",
        "\n",
        "# we put the neural net into evaluation mode (this disables features like dropout)\n",
        "model.eval()\n",
        "model_to_prob.eval()"
      ]
    },
    {
      "cell_type": "code",
      "execution_count": 148,
      "metadata": {
        "id": "35km4i7ZxiFw"
      },
      "outputs": [],
      "source": [
        "def show(original, adv, model_to_prob):\n",
        "    p0 = model_to_prob(original).detach().numpy()\n",
        "    p1 = model_to_prob(adv).detach().numpy()\n",
        "    f, axarr = plt.subplots(1,2)\n",
        "    axarr[0].imshow(original.detach().numpy().reshape(28, 28), cmap='gray')\n",
        "    axarr[0].set_title(\"Original, class: \" + str(p0.argmax()))\n",
        "    axarr[1].imshow(adv.detach().numpy().reshape(28, 28), cmap='gray')\n",
        "    axarr[1].set_title(\"Adversarial, class: \" + str(p1.argmax()))\n",
        "    print(\"Class\\t\\tOrig\\tAdv\")\n",
        "    for i in range(10):\n",
        "        print(\"Class {}:\\t{:.2f}\\t{:.2f}\".format(i, float(p0[:, i]), float(p1[:, i])))\n",
        "    plt.show()"
      ]
    },
    {
      "cell_type": "code",
      "execution_count": 149,
      "metadata": {
        "id": "IwhWRC7zxiFx"
      },
      "outputs": [],
      "source": [
        "def fgsm_(model, x, target, eps, targeted=True, clip_min=None, clip_max=None):\n",
        "    \"\"\"Internal process for all FGSM and PGD attacks.\"\"\"\n",
        "    # create a copy of the input, remove all previous associations to the compute graph...\n",
        "    input_ = x.clone().detach_()\n",
        "    # ... and make sure we are differentiating toward that variable\n",
        "    input_.requires_grad_()\n",
        "\n",
        "    # run the model and obtain the loss\n",
        "    logits = model(input_)\n",
        "    target = torch.LongTensor([target])\n",
        "    model.zero_grad()\n",
        "    loss = nn.CrossEntropyLoss()(logits, target)\n",
        "    loss.backward()\n",
        "\n",
        "    #perfrom either targeted or untargeted attack\n",
        "    if targeted:\n",
        "        out = input_ - eps * input_.grad.sign()\n",
        "    else:\n",
        "        out = input_ + eps * input_.grad.sign()\n",
        "\n",
        "    #if desired clip the ouput back to the image domain\n",
        "    if (clip_min is not None) or (clip_max is not None):\n",
        "        out.clamp_(min=clip_min, max=clip_max)\n",
        "    return out"
      ]
    },
    {
      "cell_type": "code",
      "execution_count": 160,
      "metadata": {
        "id": "3jktzfEDxiFy"
      },
      "outputs": [],
      "source": [
        "# x: input image\n",
        "# label: current label of x\n",
        "# k: number of FGSM iterations\n",
        "# eps: size of l-infinity ball\n",
        "# eps_step: step size of FGSM iterations\n",
        "\n",
        "def pgd(model, x, label, k, eps, eps_step, targeted, clip_min, clip_max):\n",
        "    x_adv = x.clone().detach() + torch.FloatTensor(x.shape).uniform_(-eps, eps)\n",
        "    x_adv.clamp_(min=clip_min, max=clip_max)\n",
        "    x_min = x - eps\n",
        "    x_max = x + eps\n",
        "    for i in range(k):\n",
        "      x_adv = fgsm_(model, x_adv, label, eps_step, targeted)\n",
        "      x_adv = torch.min(x_max, torch.max(x_min, x_adv))\n",
        "      x_adv.clamp_(min=clip_min, max=clip_max)\n",
        "    return x_adv\n"
      ]
    },
    {
      "cell_type": "code",
      "execution_count": 161,
      "metadata": {
        "colab": {
          "base_uri": "https://localhost:8080/",
          "height": 588
        },
        "id": "W-3piE-nxiFy",
        "outputId": "861fcf60-53ec-4c7a-98dd-64053d98947e"
      },
      "outputs": [
        {
          "output_type": "stream",
          "name": "stderr",
          "text": [
            "/usr/local/lib/python3.10/dist-packages/torch/nn/modules/module.py:1553: UserWarning: Implicit dimension choice for softmax has been deprecated. Change the call to include dim=X as an argument.\n",
            "  return self._call_impl(*args, **kwargs)\n",
            "<ipython-input-148-9a195dd56465>:11: DeprecationWarning: Conversion of an array with ndim > 0 to a scalar is deprecated, and will error in future. Ensure you extract a single element from your array before performing this operation. (Deprecated NumPy 1.25.)\n",
            "  print(\"Class {}:\\t{:.2f}\\t{:.2f}\".format(i, float(p0[:, i]), float(p1[:, i])))\n"
          ]
        },
        {
          "output_type": "stream",
          "name": "stdout",
          "text": [
            "Class\t\tOrig\tAdv\n",
            "Class 0:\t0.00\t0.00\n",
            "Class 1:\t0.00\t0.00\n",
            "Class 2:\t0.00\t1.00\n",
            "Class 3:\t0.00\t0.00\n",
            "Class 4:\t0.00\t0.00\n",
            "Class 5:\t0.00\t0.00\n",
            "Class 6:\t0.00\t0.00\n",
            "Class 7:\t1.00\t0.00\n",
            "Class 8:\t0.00\t0.00\n",
            "Class 9:\t0.00\t0.00\n"
          ]
        },
        {
          "output_type": "display_data",
          "data": {
            "text/plain": [
              "<Figure size 640x480 with 2 Axes>"
            ],
            "image/png": "[encoded data removed]"
          },
          "metadata": {}
        }
      ],
      "source": [
        "# try out our attacks\n",
        "original = torch.unsqueeze(test_dataset[0][0], dim=0)\n",
        "\n",
        "adv = pgd(model, original, label=7, k=10, eps=0.15, eps_step=0.05, targeted=False, clip_min=0, clip_max=1.0)\n",
        "\n",
        "show(original, adv, model_to_prob)"
      ]
    }
  ],
  "metadata": {
    "kernelspec": {
      "display_name": "Python 3.9.12 ('mess')",
      "language": "python",
      "name": "python3"
    },
    "language_info": {
      "codemirror_mode": {
        "name": "ipython",
        "version": 3
      },
      "file_extension": ".py",
      "mimetype": "text/x-python",
      "name": "python",
      "nbconvert_exporter": "python",
      "pygments_lexer": "ipython3",
      "version": "3.9.12"
    },
    "orig_nbformat": 4,
    "vscode": {
      "interpreter": {
        "hash": "38fbc8e28447ad5d6244055fa3e3d824aac84fcba8fa26cadda11ca7c822d364"
      }
    },
    "colab": {
      "provenance": []
    }
  },
  "nbformat": 4,
  "nbformat_minor": 0
}